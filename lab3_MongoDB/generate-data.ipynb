{
  "nbformat": 4,
  "nbformat_minor": 0,
  "metadata": {
    "colab": {
      "provenance": []
    },
    "kernelspec": {
      "name": "python3",
      "display_name": "Python 3"
    },
    "language_info": {
      "name": "python"
    },
    "widgets": {
      "application/vnd.jupyter.widget-state+json": {
        "ec78329c49c440d8ab6ca9582e6d43ea": {
          "model_module": "@jupyter-widgets/controls",
          "model_name": "HBoxModel",
          "model_module_version": "1.5.0",
          "state": {
            "_dom_classes": [],
            "_model_module": "@jupyter-widgets/controls",
            "_model_module_version": "1.5.0",
            "_model_name": "HBoxModel",
            "_view_count": null,
            "_view_module": "@jupyter-widgets/controls",
            "_view_module_version": "1.5.0",
            "_view_name": "HBoxView",
            "box_style": "",
            "children": [
              "IPY_MODEL_edadf73c2ae8499b95a096d851d4b3f1",
              "IPY_MODEL_64fd1ec874554516b652032af6186804",
              "IPY_MODEL_d213126e2b7340e98ca677c7e926aa94"
            ],
            "layout": "IPY_MODEL_9af5fde5199c428fb7937e2a3d5d80f5"
          }
        },
        "edadf73c2ae8499b95a096d851d4b3f1": {
          "model_module": "@jupyter-widgets/controls",
          "model_name": "HTMLModel",
          "model_module_version": "1.5.0",
          "state": {
            "_dom_classes": [],
            "_model_module": "@jupyter-widgets/controls",
            "_model_module_version": "1.5.0",
            "_model_name": "HTMLModel",
            "_view_count": null,
            "_view_module": "@jupyter-widgets/controls",
            "_view_module_version": "1.5.0",
            "_view_name": "HTMLView",
            "description": "",
            "description_tooltip": null,
            "layout": "IPY_MODEL_9b35f15c998049649b727761d333467b",
            "placeholder": "​",
            "style": "IPY_MODEL_34ee6ef4abc3465fa72bd5b7a9307d04",
            "value": "100%"
          }
        },
        "64fd1ec874554516b652032af6186804": {
          "model_module": "@jupyter-widgets/controls",
          "model_name": "FloatProgressModel",
          "model_module_version": "1.5.0",
          "state": {
            "_dom_classes": [],
            "_model_module": "@jupyter-widgets/controls",
            "_model_module_version": "1.5.0",
            "_model_name": "FloatProgressModel",
            "_view_count": null,
            "_view_module": "@jupyter-widgets/controls",
            "_view_module_version": "1.5.0",
            "_view_name": "ProgressView",
            "bar_style": "success",
            "description": "",
            "description_tooltip": null,
            "layout": "IPY_MODEL_bf8e30dffed14a75965a9c0fad5f0f96",
            "max": 2000000,
            "min": 0,
            "orientation": "horizontal",
            "style": "IPY_MODEL_06916c3ec87741b097eccdad6a4ec3fd",
            "value": 2000000
          }
        },
        "d213126e2b7340e98ca677c7e926aa94": {
          "model_module": "@jupyter-widgets/controls",
          "model_name": "HTMLModel",
          "model_module_version": "1.5.0",
          "state": {
            "_dom_classes": [],
            "_model_module": "@jupyter-widgets/controls",
            "_model_module_version": "1.5.0",
            "_model_name": "HTMLModel",
            "_view_count": null,
            "_view_module": "@jupyter-widgets/controls",
            "_view_module_version": "1.5.0",
            "_view_name": "HTMLView",
            "description": "",
            "description_tooltip": null,
            "layout": "IPY_MODEL_81d794f5a5324f48be9311390b2707c8",
            "placeholder": "​",
            "style": "IPY_MODEL_ba8948f6a2bf45af83791396706ecc84",
            "value": " 2000000/2000000 [06:02&lt;00:00, 5506.68it/s]"
          }
        },
        "9af5fde5199c428fb7937e2a3d5d80f5": {
          "model_module": "@jupyter-widgets/base",
          "model_name": "LayoutModel",
          "model_module_version": "1.2.0",
          "state": {
            "_model_module": "@jupyter-widgets/base",
            "_model_module_version": "1.2.0",
            "_model_name": "LayoutModel",
            "_view_count": null,
            "_view_module": "@jupyter-widgets/base",
            "_view_module_version": "1.2.0",
            "_view_name": "LayoutView",
            "align_content": null,
            "align_items": null,
            "align_self": null,
            "border": null,
            "bottom": null,
            "display": null,
            "flex": null,
            "flex_flow": null,
            "grid_area": null,
            "grid_auto_columns": null,
            "grid_auto_flow": null,
            "grid_auto_rows": null,
            "grid_column": null,
            "grid_gap": null,
            "grid_row": null,
            "grid_template_areas": null,
            "grid_template_columns": null,
            "grid_template_rows": null,
            "height": null,
            "justify_content": null,
            "justify_items": null,
            "left": null,
            "margin": null,
            "max_height": null,
            "max_width": null,
            "min_height": null,
            "min_width": null,
            "object_fit": null,
            "object_position": null,
            "order": null,
            "overflow": null,
            "overflow_x": null,
            "overflow_y": null,
            "padding": null,
            "right": null,
            "top": null,
            "visibility": null,
            "width": null
          }
        },
        "9b35f15c998049649b727761d333467b": {
          "model_module": "@jupyter-widgets/base",
          "model_name": "LayoutModel",
          "model_module_version": "1.2.0",
          "state": {
            "_model_module": "@jupyter-widgets/base",
            "_model_module_version": "1.2.0",
            "_model_name": "LayoutModel",
            "_view_count": null,
            "_view_module": "@jupyter-widgets/base",
            "_view_module_version": "1.2.0",
            "_view_name": "LayoutView",
            "align_content": null,
            "align_items": null,
            "align_self": null,
            "border": null,
            "bottom": null,
            "display": null,
            "flex": null,
            "flex_flow": null,
            "grid_area": null,
            "grid_auto_columns": null,
            "grid_auto_flow": null,
            "grid_auto_rows": null,
            "grid_column": null,
            "grid_gap": null,
            "grid_row": null,
            "grid_template_areas": null,
            "grid_template_columns": null,
            "grid_template_rows": null,
            "height": null,
            "justify_content": null,
            "justify_items": null,
            "left": null,
            "margin": null,
            "max_height": null,
            "max_width": null,
            "min_height": null,
            "min_width": null,
            "object_fit": null,
            "object_position": null,
            "order": null,
            "overflow": null,
            "overflow_x": null,
            "overflow_y": null,
            "padding": null,
            "right": null,
            "top": null,
            "visibility": null,
            "width": null
          }
        },
        "34ee6ef4abc3465fa72bd5b7a9307d04": {
          "model_module": "@jupyter-widgets/controls",
          "model_name": "DescriptionStyleModel",
          "model_module_version": "1.5.0",
          "state": {
            "_model_module": "@jupyter-widgets/controls",
            "_model_module_version": "1.5.0",
            "_model_name": "DescriptionStyleModel",
            "_view_count": null,
            "_view_module": "@jupyter-widgets/base",
            "_view_module_version": "1.2.0",
            "_view_name": "StyleView",
            "description_width": ""
          }
        },
        "bf8e30dffed14a75965a9c0fad5f0f96": {
          "model_module": "@jupyter-widgets/base",
          "model_name": "LayoutModel",
          "model_module_version": "1.2.0",
          "state": {
            "_model_module": "@jupyter-widgets/base",
            "_model_module_version": "1.2.0",
            "_model_name": "LayoutModel",
            "_view_count": null,
            "_view_module": "@jupyter-widgets/base",
            "_view_module_version": "1.2.0",
            "_view_name": "LayoutView",
            "align_content": null,
            "align_items": null,
            "align_self": null,
            "border": null,
            "bottom": null,
            "display": null,
            "flex": null,
            "flex_flow": null,
            "grid_area": null,
            "grid_auto_columns": null,
            "grid_auto_flow": null,
            "grid_auto_rows": null,
            "grid_column": null,
            "grid_gap": null,
            "grid_row": null,
            "grid_template_areas": null,
            "grid_template_columns": null,
            "grid_template_rows": null,
            "height": null,
            "justify_content": null,
            "justify_items": null,
            "left": null,
            "margin": null,
            "max_height": null,
            "max_width": null,
            "min_height": null,
            "min_width": null,
            "object_fit": null,
            "object_position": null,
            "order": null,
            "overflow": null,
            "overflow_x": null,
            "overflow_y": null,
            "padding": null,
            "right": null,
            "top": null,
            "visibility": null,
            "width": null
          }
        },
        "06916c3ec87741b097eccdad6a4ec3fd": {
          "model_module": "@jupyter-widgets/controls",
          "model_name": "ProgressStyleModel",
          "model_module_version": "1.5.0",
          "state": {
            "_model_module": "@jupyter-widgets/controls",
            "_model_module_version": "1.5.0",
            "_model_name": "ProgressStyleModel",
            "_view_count": null,
            "_view_module": "@jupyter-widgets/base",
            "_view_module_version": "1.2.0",
            "_view_name": "StyleView",
            "bar_color": null,
            "description_width": ""
          }
        },
        "81d794f5a5324f48be9311390b2707c8": {
          "model_module": "@jupyter-widgets/base",
          "model_name": "LayoutModel",
          "model_module_version": "1.2.0",
          "state": {
            "_model_module": "@jupyter-widgets/base",
            "_model_module_version": "1.2.0",
            "_model_name": "LayoutModel",
            "_view_count": null,
            "_view_module": "@jupyter-widgets/base",
            "_view_module_version": "1.2.0",
            "_view_name": "LayoutView",
            "align_content": null,
            "align_items": null,
            "align_self": null,
            "border": null,
            "bottom": null,
            "display": null,
            "flex": null,
            "flex_flow": null,
            "grid_area": null,
            "grid_auto_columns": null,
            "grid_auto_flow": null,
            "grid_auto_rows": null,
            "grid_column": null,
            "grid_gap": null,
            "grid_row": null,
            "grid_template_areas": null,
            "grid_template_columns": null,
            "grid_template_rows": null,
            "height": null,
            "justify_content": null,
            "justify_items": null,
            "left": null,
            "margin": null,
            "max_height": null,
            "max_width": null,
            "min_height": null,
            "min_width": null,
            "object_fit": null,
            "object_position": null,
            "order": null,
            "overflow": null,
            "overflow_x": null,
            "overflow_y": null,
            "padding": null,
            "right": null,
            "top": null,
            "visibility": null,
            "width": null
          }
        },
        "ba8948f6a2bf45af83791396706ecc84": {
          "model_module": "@jupyter-widgets/controls",
          "model_name": "DescriptionStyleModel",
          "model_module_version": "1.5.0",
          "state": {
            "_model_module": "@jupyter-widgets/controls",
            "_model_module_version": "1.5.0",
            "_model_name": "DescriptionStyleModel",
            "_view_count": null,
            "_view_module": "@jupyter-widgets/base",
            "_view_module_version": "1.2.0",
            "_view_name": "StyleView",
            "description_width": ""
          }
        },
        "bb20afe0b6c54efabde05ab3e33fe422": {
          "model_module": "@jupyter-widgets/controls",
          "model_name": "HBoxModel",
          "model_module_version": "1.5.0",
          "state": {
            "_dom_classes": [],
            "_model_module": "@jupyter-widgets/controls",
            "_model_module_version": "1.5.0",
            "_model_name": "HBoxModel",
            "_view_count": null,
            "_view_module": "@jupyter-widgets/controls",
            "_view_module_version": "1.5.0",
            "_view_name": "HBoxView",
            "box_style": "",
            "children": [
              "IPY_MODEL_61775582dde34c37a6fa84b90fc74f43",
              "IPY_MODEL_904fc91b0c65493cb6f5be5a5c9dfdd7",
              "IPY_MODEL_f190a2eec00044c4aca889bc7ddf9835"
            ],
            "layout": "IPY_MODEL_bd2aecc82a9f40c3b67bd1a04ac5fedd"
          }
        },
        "61775582dde34c37a6fa84b90fc74f43": {
          "model_module": "@jupyter-widgets/controls",
          "model_name": "HTMLModel",
          "model_module_version": "1.5.0",
          "state": {
            "_dom_classes": [],
            "_model_module": "@jupyter-widgets/controls",
            "_model_module_version": "1.5.0",
            "_model_name": "HTMLModel",
            "_view_count": null,
            "_view_module": "@jupyter-widgets/controls",
            "_view_module_version": "1.5.0",
            "_view_name": "HTMLView",
            "description": "",
            "description_tooltip": null,
            "layout": "IPY_MODEL_8f1287d0ca044dd4b12092fe38353ad6",
            "placeholder": "​",
            "style": "IPY_MODEL_b6819078d3d1478da43e5f1b8db2c3c3",
            "value": "100%"
          }
        },
        "904fc91b0c65493cb6f5be5a5c9dfdd7": {
          "model_module": "@jupyter-widgets/controls",
          "model_name": "FloatProgressModel",
          "model_module_version": "1.5.0",
          "state": {
            "_dom_classes": [],
            "_model_module": "@jupyter-widgets/controls",
            "_model_module_version": "1.5.0",
            "_model_name": "FloatProgressModel",
            "_view_count": null,
            "_view_module": "@jupyter-widgets/controls",
            "_view_module_version": "1.5.0",
            "_view_name": "ProgressView",
            "bar_style": "success",
            "description": "",
            "description_tooltip": null,
            "layout": "IPY_MODEL_ddaefe7a566045d2a1b9f51cb53b62f0",
            "max": 2000000,
            "min": 0,
            "orientation": "horizontal",
            "style": "IPY_MODEL_fb6751f5c3064f58b7d873a0877360e3",
            "value": 2000000
          }
        },
        "f190a2eec00044c4aca889bc7ddf9835": {
          "model_module": "@jupyter-widgets/controls",
          "model_name": "HTMLModel",
          "model_module_version": "1.5.0",
          "state": {
            "_dom_classes": [],
            "_model_module": "@jupyter-widgets/controls",
            "_model_module_version": "1.5.0",
            "_model_name": "HTMLModel",
            "_view_count": null,
            "_view_module": "@jupyter-widgets/controls",
            "_view_module_version": "1.5.0",
            "_view_name": "HTMLView",
            "description": "",
            "description_tooltip": null,
            "layout": "IPY_MODEL_cfc59c52ea89468890051cdc6b1b2b89",
            "placeholder": "​",
            "style": "IPY_MODEL_b896ce33a6d443058b63666bae8c9410",
            "value": " 2000000/2000000 [00:06&lt;00:00, 274234.22it/s]"
          }
        },
        "bd2aecc82a9f40c3b67bd1a04ac5fedd": {
          "model_module": "@jupyter-widgets/base",
          "model_name": "LayoutModel",
          "model_module_version": "1.2.0",
          "state": {
            "_model_module": "@jupyter-widgets/base",
            "_model_module_version": "1.2.0",
            "_model_name": "LayoutModel",
            "_view_count": null,
            "_view_module": "@jupyter-widgets/base",
            "_view_module_version": "1.2.0",
            "_view_name": "LayoutView",
            "align_content": null,
            "align_items": null,
            "align_self": null,
            "border": null,
            "bottom": null,
            "display": null,
            "flex": null,
            "flex_flow": null,
            "grid_area": null,
            "grid_auto_columns": null,
            "grid_auto_flow": null,
            "grid_auto_rows": null,
            "grid_column": null,
            "grid_gap": null,
            "grid_row": null,
            "grid_template_areas": null,
            "grid_template_columns": null,
            "grid_template_rows": null,
            "height": null,
            "justify_content": null,
            "justify_items": null,
            "left": null,
            "margin": null,
            "max_height": null,
            "max_width": null,
            "min_height": null,
            "min_width": null,
            "object_fit": null,
            "object_position": null,
            "order": null,
            "overflow": null,
            "overflow_x": null,
            "overflow_y": null,
            "padding": null,
            "right": null,
            "top": null,
            "visibility": null,
            "width": null
          }
        },
        "8f1287d0ca044dd4b12092fe38353ad6": {
          "model_module": "@jupyter-widgets/base",
          "model_name": "LayoutModel",
          "model_module_version": "1.2.0",
          "state": {
            "_model_module": "@jupyter-widgets/base",
            "_model_module_version": "1.2.0",
            "_model_name": "LayoutModel",
            "_view_count": null,
            "_view_module": "@jupyter-widgets/base",
            "_view_module_version": "1.2.0",
            "_view_name": "LayoutView",
            "align_content": null,
            "align_items": null,
            "align_self": null,
            "border": null,
            "bottom": null,
            "display": null,
            "flex": null,
            "flex_flow": null,
            "grid_area": null,
            "grid_auto_columns": null,
            "grid_auto_flow": null,
            "grid_auto_rows": null,
            "grid_column": null,
            "grid_gap": null,
            "grid_row": null,
            "grid_template_areas": null,
            "grid_template_columns": null,
            "grid_template_rows": null,
            "height": null,
            "justify_content": null,
            "justify_items": null,
            "left": null,
            "margin": null,
            "max_height": null,
            "max_width": null,
            "min_height": null,
            "min_width": null,
            "object_fit": null,
            "object_position": null,
            "order": null,
            "overflow": null,
            "overflow_x": null,
            "overflow_y": null,
            "padding": null,
            "right": null,
            "top": null,
            "visibility": null,
            "width": null
          }
        },
        "b6819078d3d1478da43e5f1b8db2c3c3": {
          "model_module": "@jupyter-widgets/controls",
          "model_name": "DescriptionStyleModel",
          "model_module_version": "1.5.0",
          "state": {
            "_model_module": "@jupyter-widgets/controls",
            "_model_module_version": "1.5.0",
            "_model_name": "DescriptionStyleModel",
            "_view_count": null,
            "_view_module": "@jupyter-widgets/base",
            "_view_module_version": "1.2.0",
            "_view_name": "StyleView",
            "description_width": ""
          }
        },
        "ddaefe7a566045d2a1b9f51cb53b62f0": {
          "model_module": "@jupyter-widgets/base",
          "model_name": "LayoutModel",
          "model_module_version": "1.2.0",
          "state": {
            "_model_module": "@jupyter-widgets/base",
            "_model_module_version": "1.2.0",
            "_model_name": "LayoutModel",
            "_view_count": null,
            "_view_module": "@jupyter-widgets/base",
            "_view_module_version": "1.2.0",
            "_view_name": "LayoutView",
            "align_content": null,
            "align_items": null,
            "align_self": null,
            "border": null,
            "bottom": null,
            "display": null,
            "flex": null,
            "flex_flow": null,
            "grid_area": null,
            "grid_auto_columns": null,
            "grid_auto_flow": null,
            "grid_auto_rows": null,
            "grid_column": null,
            "grid_gap": null,
            "grid_row": null,
            "grid_template_areas": null,
            "grid_template_columns": null,
            "grid_template_rows": null,
            "height": null,
            "justify_content": null,
            "justify_items": null,
            "left": null,
            "margin": null,
            "max_height": null,
            "max_width": null,
            "min_height": null,
            "min_width": null,
            "object_fit": null,
            "object_position": null,
            "order": null,
            "overflow": null,
            "overflow_x": null,
            "overflow_y": null,
            "padding": null,
            "right": null,
            "top": null,
            "visibility": null,
            "width": null
          }
        },
        "fb6751f5c3064f58b7d873a0877360e3": {
          "model_module": "@jupyter-widgets/controls",
          "model_name": "ProgressStyleModel",
          "model_module_version": "1.5.0",
          "state": {
            "_model_module": "@jupyter-widgets/controls",
            "_model_module_version": "1.5.0",
            "_model_name": "ProgressStyleModel",
            "_view_count": null,
            "_view_module": "@jupyter-widgets/base",
            "_view_module_version": "1.2.0",
            "_view_name": "StyleView",
            "bar_color": null,
            "description_width": ""
          }
        },
        "cfc59c52ea89468890051cdc6b1b2b89": {
          "model_module": "@jupyter-widgets/base",
          "model_name": "LayoutModel",
          "model_module_version": "1.2.0",
          "state": {
            "_model_module": "@jupyter-widgets/base",
            "_model_module_version": "1.2.0",
            "_model_name": "LayoutModel",
            "_view_count": null,
            "_view_module": "@jupyter-widgets/base",
            "_view_module_version": "1.2.0",
            "_view_name": "LayoutView",
            "align_content": null,
            "align_items": null,
            "align_self": null,
            "border": null,
            "bottom": null,
            "display": null,
            "flex": null,
            "flex_flow": null,
            "grid_area": null,
            "grid_auto_columns": null,
            "grid_auto_flow": null,
            "grid_auto_rows": null,
            "grid_column": null,
            "grid_gap": null,
            "grid_row": null,
            "grid_template_areas": null,
            "grid_template_columns": null,
            "grid_template_rows": null,
            "height": null,
            "justify_content": null,
            "justify_items": null,
            "left": null,
            "margin": null,
            "max_height": null,
            "max_width": null,
            "min_height": null,
            "min_width": null,
            "object_fit": null,
            "object_position": null,
            "order": null,
            "overflow": null,
            "overflow_x": null,
            "overflow_y": null,
            "padding": null,
            "right": null,
            "top": null,
            "visibility": null,
            "width": null
          }
        },
        "b896ce33a6d443058b63666bae8c9410": {
          "model_module": "@jupyter-widgets/controls",
          "model_name": "DescriptionStyleModel",
          "model_module_version": "1.5.0",
          "state": {
            "_model_module": "@jupyter-widgets/controls",
            "_model_module_version": "1.5.0",
            "_model_name": "DescriptionStyleModel",
            "_view_count": null,
            "_view_module": "@jupyter-widgets/base",
            "_view_module_version": "1.2.0",
            "_view_name": "StyleView",
            "description_width": ""
          }
        }
      }
    }
  },
  "cells": [
    {
      "cell_type": "code",
      "execution_count": 1,
      "metadata": {
        "id": "7ZHczcchO7Qs"
      },
      "outputs": [],
      "source": [
        "import pandas as pd\n",
        "import numpy as np\n",
        "import random\n",
        "\n",
        "from tqdm.notebook import tqdm\n",
        "from geopy.distance import geodesic"
      ]
    },
    {
      "cell_type": "code",
      "source": [
        "import warnings\n",
        "warnings.filterwarnings('ignore')"
      ],
      "metadata": {
        "id": "sIy6jle0RvsT"
      },
      "execution_count": 2,
      "outputs": []
    },
    {
      "cell_type": "code",
      "source": [
        "data = pd.read_csv('London postcodes.csv', delimiter=\",\")"
      ],
      "metadata": {
        "id": "7l3cKu3TRySY"
      },
      "execution_count": 30,
      "outputs": []
    },
    {
      "cell_type": "code",
      "source": [
        "data.shape"
      ],
      "metadata": {
        "colab": {
          "base_uri": "https://localhost:8080/"
        },
        "id": "bGBVSxd6R01x",
        "outputId": "95494ad4-a64e-4f46-e3a0-0917709146bd"
      },
      "execution_count": 31,
      "outputs": [
        {
          "output_type": "execute_result",
          "data": {
            "text/plain": [
              "(314746, 29)"
            ]
          },
          "metadata": {},
          "execution_count": 31
        }
      ]
    },
    {
      "cell_type": "code",
      "source": [
        "data.head()"
      ],
      "metadata": {
        "colab": {
          "base_uri": "https://localhost:8080/",
          "height": 456
        },
        "id": "D2skpKCJVLNk",
        "outputId": "094581c8-df0f-4bca-8425-8e5882a4f947"
      },
      "execution_count": 32,
      "outputs": [
        {
          "output_type": "execute_result",
          "data": {
            "text/plain": [
              "  Postcode In Use?   Latitude  Longitude  Easting  Northing   GridRef  \\\n",
              "0  BR1 1AA     Yes  51.401546   0.015415   540291    168873  TQ402688   \n",
              "1  BR1 1AB     Yes  51.406333   0.015208   540262    169405  TQ402694   \n",
              "2  BR1 1AD     Yes  51.400057   0.016715   540386    168710  TQ403687   \n",
              "3  BR1 1AE     Yes  51.404543   0.014195   540197    169204  TQ401692   \n",
              "4  BR1 1AF     Yes  51.401392   0.014948   540259    168855  TQ402688   \n",
              "\n",
              "           County District          Ward  ... Population Households  \\\n",
              "0  Greater London  Bromley  Bromley Town  ...        NaN        NaN   \n",
              "1  Greater London  Bromley  Bromley Town  ...        NaN        NaN   \n",
              "2  Greater London  Bromley  Bromley Town  ...        NaN        NaN   \n",
              "3  Greater London  Bromley  Bromley Town  ...       34.0       21.0   \n",
              "4  Greater London  Bromley  Bromley Town  ...        NaN        NaN   \n",
              "\n",
              "    Built up area Built up sub-division Lower layer super output area  \\\n",
              "0  Greater London               Bromley                  Bromley 018B   \n",
              "1  Greater London               Bromley                  Bromley 008B   \n",
              "2  Greater London               Bromley                  Bromley 018B   \n",
              "3  Greater London               Bromley                  Bromley 018C   \n",
              "4  Greater London               Bromley                  Bromley 018B   \n",
              "\n",
              "               Rural/urban  Region Altitude  London zone  LSOA Code  \n",
              "0  Urban major conurbation  London       71          5.0  E01000675  \n",
              "1  Urban major conurbation  London       71          4.0  E01000676  \n",
              "2  Urban major conurbation  London       53          5.0  E01000675  \n",
              "3  Urban major conurbation  London       71          4.0  E01000677  \n",
              "4  Urban major conurbation  London       58          5.0  E01000675  \n",
              "\n",
              "[5 rows x 29 columns]"
            ],
            "text/html": [
              "\n",
              "  <div id=\"df-d370ff46-cd1c-4954-b521-e0442233e24f\">\n",
              "    <div class=\"colab-df-container\">\n",
              "      <div>\n",
              "<style scoped>\n",
              "    .dataframe tbody tr th:only-of-type {\n",
              "        vertical-align: middle;\n",
              "    }\n",
              "\n",
              "    .dataframe tbody tr th {\n",
              "        vertical-align: top;\n",
              "    }\n",
              "\n",
              "    .dataframe thead th {\n",
              "        text-align: right;\n",
              "    }\n",
              "</style>\n",
              "<table border=\"1\" class=\"dataframe\">\n",
              "  <thead>\n",
              "    <tr style=\"text-align: right;\">\n",
              "      <th></th>\n",
              "      <th>Postcode</th>\n",
              "      <th>In Use?</th>\n",
              "      <th>Latitude</th>\n",
              "      <th>Longitude</th>\n",
              "      <th>Easting</th>\n",
              "      <th>Northing</th>\n",
              "      <th>GridRef</th>\n",
              "      <th>County</th>\n",
              "      <th>District</th>\n",
              "      <th>Ward</th>\n",
              "      <th>...</th>\n",
              "      <th>Population</th>\n",
              "      <th>Households</th>\n",
              "      <th>Built up area</th>\n",
              "      <th>Built up sub-division</th>\n",
              "      <th>Lower layer super output area</th>\n",
              "      <th>Rural/urban</th>\n",
              "      <th>Region</th>\n",
              "      <th>Altitude</th>\n",
              "      <th>London zone</th>\n",
              "      <th>LSOA Code</th>\n",
              "    </tr>\n",
              "  </thead>\n",
              "  <tbody>\n",
              "    <tr>\n",
              "      <th>0</th>\n",
              "      <td>BR1 1AA</td>\n",
              "      <td>Yes</td>\n",
              "      <td>51.401546</td>\n",
              "      <td>0.015415</td>\n",
              "      <td>540291</td>\n",
              "      <td>168873</td>\n",
              "      <td>TQ402688</td>\n",
              "      <td>Greater London</td>\n",
              "      <td>Bromley</td>\n",
              "      <td>Bromley Town</td>\n",
              "      <td>...</td>\n",
              "      <td>NaN</td>\n",
              "      <td>NaN</td>\n",
              "      <td>Greater London</td>\n",
              "      <td>Bromley</td>\n",
              "      <td>Bromley 018B</td>\n",
              "      <td>Urban major conurbation</td>\n",
              "      <td>London</td>\n",
              "      <td>71</td>\n",
              "      <td>5.0</td>\n",
              "      <td>E01000675</td>\n",
              "    </tr>\n",
              "    <tr>\n",
              "      <th>1</th>\n",
              "      <td>BR1 1AB</td>\n",
              "      <td>Yes</td>\n",
              "      <td>51.406333</td>\n",
              "      <td>0.015208</td>\n",
              "      <td>540262</td>\n",
              "      <td>169405</td>\n",
              "      <td>TQ402694</td>\n",
              "      <td>Greater London</td>\n",
              "      <td>Bromley</td>\n",
              "      <td>Bromley Town</td>\n",
              "      <td>...</td>\n",
              "      <td>NaN</td>\n",
              "      <td>NaN</td>\n",
              "      <td>Greater London</td>\n",
              "      <td>Bromley</td>\n",
              "      <td>Bromley 008B</td>\n",
              "      <td>Urban major conurbation</td>\n",
              "      <td>London</td>\n",
              "      <td>71</td>\n",
              "      <td>4.0</td>\n",
              "      <td>E01000676</td>\n",
              "    </tr>\n",
              "    <tr>\n",
              "      <th>2</th>\n",
              "      <td>BR1 1AD</td>\n",
              "      <td>Yes</td>\n",
              "      <td>51.400057</td>\n",
              "      <td>0.016715</td>\n",
              "      <td>540386</td>\n",
              "      <td>168710</td>\n",
              "      <td>TQ403687</td>\n",
              "      <td>Greater London</td>\n",
              "      <td>Bromley</td>\n",
              "      <td>Bromley Town</td>\n",
              "      <td>...</td>\n",
              "      <td>NaN</td>\n",
              "      <td>NaN</td>\n",
              "      <td>Greater London</td>\n",
              "      <td>Bromley</td>\n",
              "      <td>Bromley 018B</td>\n",
              "      <td>Urban major conurbation</td>\n",
              "      <td>London</td>\n",
              "      <td>53</td>\n",
              "      <td>5.0</td>\n",
              "      <td>E01000675</td>\n",
              "    </tr>\n",
              "    <tr>\n",
              "      <th>3</th>\n",
              "      <td>BR1 1AE</td>\n",
              "      <td>Yes</td>\n",
              "      <td>51.404543</td>\n",
              "      <td>0.014195</td>\n",
              "      <td>540197</td>\n",
              "      <td>169204</td>\n",
              "      <td>TQ401692</td>\n",
              "      <td>Greater London</td>\n",
              "      <td>Bromley</td>\n",
              "      <td>Bromley Town</td>\n",
              "      <td>...</td>\n",
              "      <td>34.0</td>\n",
              "      <td>21.0</td>\n",
              "      <td>Greater London</td>\n",
              "      <td>Bromley</td>\n",
              "      <td>Bromley 018C</td>\n",
              "      <td>Urban major conurbation</td>\n",
              "      <td>London</td>\n",
              "      <td>71</td>\n",
              "      <td>4.0</td>\n",
              "      <td>E01000677</td>\n",
              "    </tr>\n",
              "    <tr>\n",
              "      <th>4</th>\n",
              "      <td>BR1 1AF</td>\n",
              "      <td>Yes</td>\n",
              "      <td>51.401392</td>\n",
              "      <td>0.014948</td>\n",
              "      <td>540259</td>\n",
              "      <td>168855</td>\n",
              "      <td>TQ402688</td>\n",
              "      <td>Greater London</td>\n",
              "      <td>Bromley</td>\n",
              "      <td>Bromley Town</td>\n",
              "      <td>...</td>\n",
              "      <td>NaN</td>\n",
              "      <td>NaN</td>\n",
              "      <td>Greater London</td>\n",
              "      <td>Bromley</td>\n",
              "      <td>Bromley 018B</td>\n",
              "      <td>Urban major conurbation</td>\n",
              "      <td>London</td>\n",
              "      <td>58</td>\n",
              "      <td>5.0</td>\n",
              "      <td>E01000675</td>\n",
              "    </tr>\n",
              "  </tbody>\n",
              "</table>\n",
              "<p>5 rows × 29 columns</p>\n",
              "</div>\n",
              "      <button class=\"colab-df-convert\" onclick=\"convertToInteractive('df-d370ff46-cd1c-4954-b521-e0442233e24f')\"\n",
              "              title=\"Convert this dataframe to an interactive table.\"\n",
              "              style=\"display:none;\">\n",
              "        \n",
              "  <svg xmlns=\"http://www.w3.org/2000/svg\" height=\"24px\"viewBox=\"0 0 24 24\"\n",
              "       width=\"24px\">\n",
              "    <path d=\"M0 0h24v24H0V0z\" fill=\"none\"/>\n",
              "    <path d=\"M18.56 5.44l.94 2.06.94-2.06 2.06-.94-2.06-.94-.94-2.06-.94 2.06-2.06.94zm-11 1L8.5 8.5l.94-2.06 2.06-.94-2.06-.94L8.5 2.5l-.94 2.06-2.06.94zm10 10l.94 2.06.94-2.06 2.06-.94-2.06-.94-.94-2.06-.94 2.06-2.06.94z\"/><path d=\"M17.41 7.96l-1.37-1.37c-.4-.4-.92-.59-1.43-.59-.52 0-1.04.2-1.43.59L10.3 9.45l-7.72 7.72c-.78.78-.78 2.05 0 2.83L4 21.41c.39.39.9.59 1.41.59.51 0 1.02-.2 1.41-.59l7.78-7.78 2.81-2.81c.8-.78.8-2.07 0-2.86zM5.41 20L4 18.59l7.72-7.72 1.47 1.35L5.41 20z\"/>\n",
              "  </svg>\n",
              "      </button>\n",
              "      \n",
              "  <style>\n",
              "    .colab-df-container {\n",
              "      display:flex;\n",
              "      flex-wrap:wrap;\n",
              "      gap: 12px;\n",
              "    }\n",
              "\n",
              "    .colab-df-convert {\n",
              "      background-color: #E8F0FE;\n",
              "      border: none;\n",
              "      border-radius: 50%;\n",
              "      cursor: pointer;\n",
              "      display: none;\n",
              "      fill: #1967D2;\n",
              "      height: 32px;\n",
              "      padding: 0 0 0 0;\n",
              "      width: 32px;\n",
              "    }\n",
              "\n",
              "    .colab-df-convert:hover {\n",
              "      background-color: #E2EBFA;\n",
              "      box-shadow: 0px 1px 2px rgba(60, 64, 67, 0.3), 0px 1px 3px 1px rgba(60, 64, 67, 0.15);\n",
              "      fill: #174EA6;\n",
              "    }\n",
              "\n",
              "    [theme=dark] .colab-df-convert {\n",
              "      background-color: #3B4455;\n",
              "      fill: #D2E3FC;\n",
              "    }\n",
              "\n",
              "    [theme=dark] .colab-df-convert:hover {\n",
              "      background-color: #434B5C;\n",
              "      box-shadow: 0px 1px 3px 1px rgba(0, 0, 0, 0.15);\n",
              "      filter: drop-shadow(0px 1px 2px rgba(0, 0, 0, 0.3));\n",
              "      fill: #FFFFFF;\n",
              "    }\n",
              "  </style>\n",
              "\n",
              "      <script>\n",
              "        const buttonEl =\n",
              "          document.querySelector('#df-d370ff46-cd1c-4954-b521-e0442233e24f button.colab-df-convert');\n",
              "        buttonEl.style.display =\n",
              "          google.colab.kernel.accessAllowed ? 'block' : 'none';\n",
              "\n",
              "        async function convertToInteractive(key) {\n",
              "          const element = document.querySelector('#df-d370ff46-cd1c-4954-b521-e0442233e24f');\n",
              "          const dataTable =\n",
              "            await google.colab.kernel.invokeFunction('convertToInteractive',\n",
              "                                                     [key], {});\n",
              "          if (!dataTable) return;\n",
              "\n",
              "          const docLinkHtml = 'Like what you see? Visit the ' +\n",
              "            '<a target=\"_blank\" href=https://colab.research.google.com/notebooks/data_table.ipynb>data table notebook</a>'\n",
              "            + ' to learn more about interactive tables.';\n",
              "          element.innerHTML = '';\n",
              "          dataTable['output_type'] = 'display_data';\n",
              "          await google.colab.output.renderOutput(dataTable, element);\n",
              "          const docLink = document.createElement('div');\n",
              "          docLink.innerHTML = docLinkHtml;\n",
              "          element.appendChild(docLink);\n",
              "        }\n",
              "      </script>\n",
              "    </div>\n",
              "  </div>\n",
              "  "
            ]
          },
          "metadata": {},
          "execution_count": 32
        }
      ]
    },
    {
      "cell_type": "code",
      "source": [
        "data.columns"
      ],
      "metadata": {
        "colab": {
          "base_uri": "https://localhost:8080/"
        },
        "id": "P-6gouQ-VOYd",
        "outputId": "d7571cfa-be4b-49cf-a1f5-f63ad9bdd302"
      },
      "execution_count": 33,
      "outputs": [
        {
          "output_type": "execute_result",
          "data": {
            "text/plain": [
              "Index(['Postcode', 'In Use?', 'Latitude', 'Longitude', 'Easting', 'Northing',\n",
              "       'GridRef', 'County', 'District', 'Ward', 'DistrictCode', 'WardCode',\n",
              "       'Country', 'CountyCode', 'Constituency', 'Introduced', 'Terminated',\n",
              "       'Parish', 'NationalPark', 'Population', 'Households', 'Built up area',\n",
              "       'Built up sub-division', 'Lower layer super output area', 'Rural/urban',\n",
              "       'Region', 'Altitude', 'London zone', 'LSOA Code'],\n",
              "      dtype='object')"
            ]
          },
          "metadata": {},
          "execution_count": 33
        }
      ]
    },
    {
      "cell_type": "code",
      "source": [
        "rides = pd.DataFrame(columns=['driver_id', 'client_id', 'start', 'start_latitude', 'start_longtitude', 'finish', 'finish_latitude', 'finish_longtitude', 'distance', 'road_time', 'start_time', 'finish_time', 'cost', 'driver_rate', 'category_driver_feedback', 'text_driver_feedback', 'client_rate', 'category_client_feedback', 'text_client_feedback'])\n",
        "RIDES_AMOUNT = 2000000"
      ],
      "metadata": {
        "id": "2z4eByq0ZXnR"
      },
      "execution_count": 50,
      "outputs": []
    },
    {
      "cell_type": "markdown",
      "source": [
        "Generating drivers and clients id's"
      ],
      "metadata": {
        "id": "9mW2QSF5Zev_"
      }
    },
    {
      "cell_type": "code",
      "source": [
        "rides['driver_id'] = np.random.randint(low=0, high=2000, size=RIDES_AMOUNT)\n",
        "rides['client_id'] = np.random.randint(low=0, high=4000, size=RIDES_AMOUNT)"
      ],
      "metadata": {
        "id": "uLgcBJ5vZZwF"
      },
      "execution_count": 51,
      "outputs": []
    },
    {
      "cell_type": "markdown",
      "source": [
        "Generating start and finish points"
      ],
      "metadata": {
        "id": "bwMoVxA2ZoeW"
      }
    },
    {
      "cell_type": "code",
      "source": [
        "rides[['start', 'start_latitude', 'start_longtitude']] = data[['Postcode', 'Latitude', 'Longitude']].sample(n=RIDES_AMOUNT, replace=True).reset_index(drop=True)\n",
        "rides[['finish', 'finish_latitude', 'finish_longtitude']] = data[['Postcode', 'Latitude', 'Longitude']].sample(n=RIDES_AMOUNT, replace=True).reset_index(drop=True)"
      ],
      "metadata": {
        "id": "7JU0v9qKZcEM"
      },
      "execution_count": 52,
      "outputs": []
    },
    {
      "cell_type": "markdown",
      "source": [
        "Generating start time"
      ],
      "metadata": {
        "id": "CT3hWMwbZw-Z"
      }
    },
    {
      "cell_type": "code",
      "source": [
        "def randomDates(start, end, n=10):\n",
        "    start_d = start.value//10**9\n",
        "    end_d = end.value//10**9\n",
        "    return pd.to_datetime(np.random.randint(start_d, end_d, n), unit='s')\n",
        "\n",
        "start = pd.to_datetime('2012-01-01')\n",
        "end = pd.to_datetime('2023-01-01')\n",
        "rides['start_time'] = randomDates(start, end, RIDES_AMOUNT)"
      ],
      "metadata": {
        "id": "Rq0fY08bZsw2"
      },
      "execution_count": 53,
      "outputs": []
    },
    {
      "cell_type": "markdown",
      "source": [
        "Start-finish distances"
      ],
      "metadata": {
        "id": "waWiwsclZ3Sz"
      }
    },
    {
      "cell_type": "code",
      "source": [
        "rides['distance'] = [geodesic((x1, y1), (x2, y2)).km for x1, y1, x2, y2 in tqdm(zip(rides['start_latitude'], rides['start_longtitude'], rides['finish_latitude'], rides['finish_longtitude']), total=RIDES_AMOUNT)]\n",
        "rides['distance'] = rides['distance'].round(2)"
      ],
      "metadata": {
        "colab": {
          "base_uri": "https://localhost:8080/",
          "height": 49,
          "referenced_widgets": [
            "ec78329c49c440d8ab6ca9582e6d43ea",
            "edadf73c2ae8499b95a096d851d4b3f1",
            "64fd1ec874554516b652032af6186804",
            "d213126e2b7340e98ca677c7e926aa94",
            "9af5fde5199c428fb7937e2a3d5d80f5",
            "9b35f15c998049649b727761d333467b",
            "34ee6ef4abc3465fa72bd5b7a9307d04",
            "bf8e30dffed14a75965a9c0fad5f0f96",
            "06916c3ec87741b097eccdad6a4ec3fd",
            "81d794f5a5324f48be9311390b2707c8",
            "ba8948f6a2bf45af83791396706ecc84"
          ]
        },
        "id": "zEY-53VIZ0TD",
        "outputId": "95d9600e-6c1f-4882-b3fa-2726e7d69f3d"
      },
      "execution_count": 56,
      "outputs": [
        {
          "output_type": "display_data",
          "data": {
            "text/plain": [
              "  0%|          | 0/2000000 [00:00<?, ?it/s]"
            ],
            "application/vnd.jupyter.widget-view+json": {
              "version_major": 2,
              "version_minor": 0,
              "model_id": "ec78329c49c440d8ab6ca9582e6d43ea"
            }
          },
          "metadata": {}
        }
      ]
    },
    {
      "cell_type": "markdown",
      "source": [
        "Calculate road time"
      ],
      "metadata": {
        "id": "VC1OGjzybh9T"
      }
    },
    {
      "cell_type": "code",
      "source": [
        "rides['road_time'] = abs(np.random.normal(size=RIDES_AMOUNT, scale=10)) + rides['distance'] * abs(np.random.normal(size=RIDES_AMOUNT, loc=1, scale=0.25))\n",
        "rides['road_time'] = rides['road_time'].astype('int')\n",
        "rides['road_time'] = pd.to_timedelta(rides['road_time'], unit='m')"
      ],
      "metadata": {
        "id": "pil-lsNYZ-jO"
      },
      "execution_count": 57,
      "outputs": []
    },
    {
      "cell_type": "markdown",
      "source": [
        "Calculate finish time"
      ],
      "metadata": {
        "id": "qw-pJGOqbxtu"
      }
    },
    {
      "cell_type": "code",
      "source": [
        "rides['finish_time'] = rides['start_time'] + rides['road_time']"
      ],
      "metadata": {
        "id": "K_DaA_AJbtvH"
      },
      "execution_count": 58,
      "outputs": []
    },
    {
      "cell_type": "markdown",
      "source": [
        "Calculate cost of the ride"
      ],
      "metadata": {
        "id": "jdo2dChTb5ed"
      }
    },
    {
      "cell_type": "code",
      "source": [
        "def costCalculating(start_time, distance):\n",
        "    cost = 2 + 0.5 * distance\n",
        "    if (start_time.hour >= 8 and start_time.hour <= 9) or \\\n",
        "        (start_time.hour >= 18 and start_time.hour <= 19):\n",
        "        cost *= 1.5\n",
        "    if (start_time.hour >= 22 or start_time.hour <= 6):\n",
        "        cost *= 1.3\n",
        "    return cost\n",
        "    \n",
        "rides['cost'] = [costCalculating(s, d) for s, d in tqdm(zip(rides.start_time, rides.distance), total=RIDES_AMOUNT)]\n",
        "rides['cost'] = rides['cost'].round(2)"
      ],
      "metadata": {
        "colab": {
          "base_uri": "https://localhost:8080/",
          "height": 49,
          "referenced_widgets": [
            "bb20afe0b6c54efabde05ab3e33fe422",
            "61775582dde34c37a6fa84b90fc74f43",
            "904fc91b0c65493cb6f5be5a5c9dfdd7",
            "f190a2eec00044c4aca889bc7ddf9835",
            "bd2aecc82a9f40c3b67bd1a04ac5fedd",
            "8f1287d0ca044dd4b12092fe38353ad6",
            "b6819078d3d1478da43e5f1b8db2c3c3",
            "ddaefe7a566045d2a1b9f51cb53b62f0",
            "fb6751f5c3064f58b7d873a0877360e3",
            "cfc59c52ea89468890051cdc6b1b2b89",
            "b896ce33a6d443058b63666bae8c9410"
          ]
        },
        "id": "ehQhoZEpb0uW",
        "outputId": "4e9106da-60c6-45c4-80d4-618ca97f5ebe"
      },
      "execution_count": 59,
      "outputs": [
        {
          "output_type": "display_data",
          "data": {
            "text/plain": [
              "  0%|          | 0/2000000 [00:00<?, ?it/s]"
            ],
            "application/vnd.jupyter.widget-view+json": {
              "version_major": 2,
              "version_minor": 0,
              "model_id": "bb20afe0b6c54efabde05ab3e33fe422"
            }
          },
          "metadata": {}
        }
      ]
    },
    {
      "cell_type": "markdown",
      "source": [
        "Generating drivers rates"
      ],
      "metadata": {
        "id": "8QMci8ilcJ-3"
      }
    },
    {
      "cell_type": "code",
      "source": [
        "driver_rate_idx = np.random.randint(low=0, high=RIDES_AMOUNT, size=int(RIDES_AMOUNT*0.3))\n",
        "driver_rate_distribution_arr = np.random.multinomial(1, [0.2, 0.05, 0.1, 0.25, 0.4], size=int(RIDES_AMOUNT*0.3))\n",
        "rides['driver_rate'][driver_rate_idx] = np.where(driver_rate_distribution_arr == 1)[1] + 1"
      ],
      "metadata": {
        "id": "Wov7NnKDcDeq"
      },
      "execution_count": 60,
      "outputs": []
    },
    {
      "cell_type": "code",
      "source": [
        "driver_feedback_categories_good = ['great service', 'nice car', 'wonderful companion', 'neat and tidy', 'expert navigation', 'recommend']\n",
        "driver_feedback_categories_bad = ['awful service', 'bad car', 'unpleasant companion', 'dirty', 'non-expert navigation', 'not recommend']"
      ],
      "metadata": {
        "id": "jioNwQ9NcU3A"
      },
      "execution_count": 61,
      "outputs": []
    },
    {
      "cell_type": "code",
      "source": [
        "category_driver_good_feedback_idx = np.random.choice(rides[rides.driver_rate > 3].index, size=int(RIDES_AMOUNT*0.3*0.2))\n",
        "rides[\"category_driver_feedback\"][category_driver_good_feedback_idx] = np.random.choice(driver_feedback_categories_good, size=int(RIDES_AMOUNT*0.3*0.2))\n",
        "\n",
        "category_driver_bad_feedback_idx = np.random.choice(rides[rides.driver_rate < 4].index, size=int(RIDES_AMOUNT*0.3*0.2))\n",
        "rides[\"category_driver_feedback\"][category_driver_bad_feedback_idx] = np.random.choice(driver_feedback_categories_bad, size=int(RIDES_AMOUNT*0.3*0.2))"
      ],
      "metadata": {
        "id": "bf7YbvaWcY39"
      },
      "execution_count": 62,
      "outputs": []
    },
    {
      "cell_type": "code",
      "source": [
        "text_good_feedback_driver_length = np.random.randint(low=0, high=7, size=int(RIDES_AMOUNT*0.3*0.2))\n",
        "text_good_feedback_driver_sample = [random.sample(driver_feedback_categories_good, i) for i in text_good_feedback_driver_length]\n",
        "rides['text_driver_feedback'][category_driver_good_feedback_idx] = text_good_feedback_driver_sample\n",
        "\n",
        "text_bad_feedback_driver_length = np.random.randint(low=0, high=7, size=int(RIDES_AMOUNT*0.3*0.2))\n",
        "text_bad_feedback_driver_sample = [random.sample(driver_feedback_categories_bad, i) for i in text_bad_feedback_driver_length]\n",
        "rides['text_driver_feedback'][category_driver_bad_feedback_idx] = text_bad_feedback_driver_sample"
      ],
      "metadata": {
        "id": "PCdaP3l1cmJC"
      },
      "execution_count": 63,
      "outputs": []
    },
    {
      "cell_type": "markdown",
      "source": [
        "Generating clients rates "
      ],
      "metadata": {
        "id": "JuF6bWgCcz2W"
      }
    },
    {
      "cell_type": "code",
      "source": [
        "client_rate_idx = np.random.randint(low=0, high=RIDES_AMOUNT, size=int(RIDES_AMOUNT*0.5))\n",
        "client_rate_distribution_arr = np.random.multinomial(1, [0.2, 0.05, 0.1, 0.25, 0.4], size=int(RIDES_AMOUNT*0.5))\n",
        "rides['client_rate'][client_rate_idx] = np.where(client_rate_distribution_arr == 1)[1] + 1"
      ],
      "metadata": {
        "id": "iUD5i_fLcxXX"
      },
      "execution_count": 64,
      "outputs": []
    },
    {
      "cell_type": "code",
      "source": [
        "client_feedback_categories_good = ['polite', 'pleasant', 'quiet', 'neat and tidy', 'recommend']\n",
        "client_feedback_categories_bad = ['unpolite', 'unpleasant', 'loud', 'dirty','not recommend']"
      ],
      "metadata": {
        "id": "N5SUi-FYdBaU"
      },
      "execution_count": 65,
      "outputs": []
    },
    {
      "cell_type": "code",
      "source": [
        "category_client_good_feedback_idx = np.random.choice(rides[rides.client_rate > 3].index, size=int(RIDES_AMOUNT*0.3*0.2))\n",
        "rides[\"category_client_feedback\"][category_client_good_feedback_idx] = np.random.choice(client_feedback_categories_good, size=int(RIDES_AMOUNT*0.3*0.2))\n",
        "\n",
        "category_client_bad_feedback_idx = np.random.choice(rides[rides.client_rate < 4].index, size=int(RIDES_AMOUNT*0.3*0.2))\n",
        "rides[\"category_client_feedback\"][category_client_bad_feedback_idx] = np.random.choice(client_feedback_categories_bad, size=int(RIDES_AMOUNT*0.3*0.2))"
      ],
      "metadata": {
        "id": "3Kie5GL1dHTB"
      },
      "execution_count": 66,
      "outputs": []
    },
    {
      "cell_type": "code",
      "source": [
        "text_good_feedback_client_length = np.random.randint(low=0, high=6, size=int(RIDES_AMOUNT*0.3*0.2))\n",
        "text_good_feedback_client_sample = [random.sample(client_feedback_categories_good, i) for i in text_good_feedback_client_length]\n",
        "rides['text_client_feedback'][category_client_good_feedback_idx] = text_good_feedback_client_sample\n",
        "\n",
        "text_bad_feedback_client_length = np.random.randint(low=0, high=6, size=int(RIDES_AMOUNT*0.3*0.2))\n",
        "text_bad_feedback_client_sample = [random.sample(client_feedback_categories_good, i) for i in text_bad_feedback_client_length]\n",
        "rides['text_client_feedback'][category_client_good_feedback_idx] = text_bad_feedback_client_sample"
      ],
      "metadata": {
        "id": "vrqthZpPdTqz"
      },
      "execution_count": 67,
      "outputs": []
    },
    {
      "cell_type": "code",
      "source": [
        "rides.head()"
      ],
      "metadata": {
        "colab": {
          "base_uri": "https://localhost:8080/",
          "height": 357
        },
        "id": "LA8co-1_dZ1W",
        "outputId": "13d8533a-5e4b-4af1-c983-1dd10dfb6e80"
      },
      "execution_count": 68,
      "outputs": [
        {
          "output_type": "execute_result",
          "data": {
            "text/plain": [
              "   driver_id  client_id     start  start_latitude  start_longtitude    finish  \\\n",
              "0       1357         52  SW18 2FN       51.448231         -0.191526   SM4 6LP   \n",
              "1       1453       3104   W1W 5PP       51.523789         -0.143961   W1B 4JZ   \n",
              "2       1506       1865    N2 0JZ       51.589306         -0.181742  SW19 6LL   \n",
              "3        508         33    N3 3RN       51.597496         -0.199102  NW10 6ZJ   \n",
              "4       1048        543  SW16 9EY       51.430919         -0.130694   DA1 4FF   \n",
              "\n",
              "   finish_latitude  finish_longtitude  distance       road_time  \\\n",
              "0        51.386111          -0.198575      6.93 0 days 00:27:00   \n",
              "1        51.512585          -0.140598      1.27 0 days 00:24:00   \n",
              "2        51.445000          -0.207209     16.15 0 days 00:23:00   \n",
              "3        51.528389          -0.246594      8.36 0 days 00:13:00   \n",
              "4        51.459906           0.179389     21.80 0 days 00:31:00   \n",
              "\n",
              "           start_time         finish_time   cost driver_rate  \\\n",
              "0 2021-06-24 23:20:05 2021-06-24 23:47:05   7.10         NaN   \n",
              "1 2014-04-05 11:23:31 2014-04-05 11:47:31   2.64         NaN   \n",
              "2 2020-11-23 17:33:11 2020-11-23 17:56:11  10.07           2   \n",
              "3 2012-07-10 08:11:54 2012-07-10 08:24:54   9.27         NaN   \n",
              "4 2017-07-23 08:02:25 2017-07-23 08:33:25  19.35           4   \n",
              "\n",
              "  category_driver_feedback                           text_driver_feedback  \\\n",
              "0                      NaN                                            NaN   \n",
              "1                      NaN                                            NaN   \n",
              "2                  bad car  [not recommend, dirty, non-expert navigation]   \n",
              "3                      NaN                                            NaN   \n",
              "4                      NaN                                            NaN   \n",
              "\n",
              "  client_rate category_client_feedback text_client_feedback  \n",
              "0         NaN                      NaN                  NaN  \n",
              "1           1                      NaN                  NaN  \n",
              "2           3                      NaN                  NaN  \n",
              "3         NaN                      NaN                  NaN  \n",
              "4           5                      NaN                  NaN  "
            ],
            "text/html": [
              "\n",
              "  <div id=\"df-c8000356-d22a-43e8-b88c-e2cfd4333605\">\n",
              "    <div class=\"colab-df-container\">\n",
              "      <div>\n",
              "<style scoped>\n",
              "    .dataframe tbody tr th:only-of-type {\n",
              "        vertical-align: middle;\n",
              "    }\n",
              "\n",
              "    .dataframe tbody tr th {\n",
              "        vertical-align: top;\n",
              "    }\n",
              "\n",
              "    .dataframe thead th {\n",
              "        text-align: right;\n",
              "    }\n",
              "</style>\n",
              "<table border=\"1\" class=\"dataframe\">\n",
              "  <thead>\n",
              "    <tr style=\"text-align: right;\">\n",
              "      <th></th>\n",
              "      <th>driver_id</th>\n",
              "      <th>client_id</th>\n",
              "      <th>start</th>\n",
              "      <th>start_latitude</th>\n",
              "      <th>start_longtitude</th>\n",
              "      <th>finish</th>\n",
              "      <th>finish_latitude</th>\n",
              "      <th>finish_longtitude</th>\n",
              "      <th>distance</th>\n",
              "      <th>road_time</th>\n",
              "      <th>start_time</th>\n",
              "      <th>finish_time</th>\n",
              "      <th>cost</th>\n",
              "      <th>driver_rate</th>\n",
              "      <th>category_driver_feedback</th>\n",
              "      <th>text_driver_feedback</th>\n",
              "      <th>client_rate</th>\n",
              "      <th>category_client_feedback</th>\n",
              "      <th>text_client_feedback</th>\n",
              "    </tr>\n",
              "  </thead>\n",
              "  <tbody>\n",
              "    <tr>\n",
              "      <th>0</th>\n",
              "      <td>1357</td>\n",
              "      <td>52</td>\n",
              "      <td>SW18 2FN</td>\n",
              "      <td>51.448231</td>\n",
              "      <td>-0.191526</td>\n",
              "      <td>SM4 6LP</td>\n",
              "      <td>51.386111</td>\n",
              "      <td>-0.198575</td>\n",
              "      <td>6.93</td>\n",
              "      <td>0 days 00:27:00</td>\n",
              "      <td>2021-06-24 23:20:05</td>\n",
              "      <td>2021-06-24 23:47:05</td>\n",
              "      <td>7.10</td>\n",
              "      <td>NaN</td>\n",
              "      <td>NaN</td>\n",
              "      <td>NaN</td>\n",
              "      <td>NaN</td>\n",
              "      <td>NaN</td>\n",
              "      <td>NaN</td>\n",
              "    </tr>\n",
              "    <tr>\n",
              "      <th>1</th>\n",
              "      <td>1453</td>\n",
              "      <td>3104</td>\n",
              "      <td>W1W 5PP</td>\n",
              "      <td>51.523789</td>\n",
              "      <td>-0.143961</td>\n",
              "      <td>W1B 4JZ</td>\n",
              "      <td>51.512585</td>\n",
              "      <td>-0.140598</td>\n",
              "      <td>1.27</td>\n",
              "      <td>0 days 00:24:00</td>\n",
              "      <td>2014-04-05 11:23:31</td>\n",
              "      <td>2014-04-05 11:47:31</td>\n",
              "      <td>2.64</td>\n",
              "      <td>NaN</td>\n",
              "      <td>NaN</td>\n",
              "      <td>NaN</td>\n",
              "      <td>1</td>\n",
              "      <td>NaN</td>\n",
              "      <td>NaN</td>\n",
              "    </tr>\n",
              "    <tr>\n",
              "      <th>2</th>\n",
              "      <td>1506</td>\n",
              "      <td>1865</td>\n",
              "      <td>N2 0JZ</td>\n",
              "      <td>51.589306</td>\n",
              "      <td>-0.181742</td>\n",
              "      <td>SW19 6LL</td>\n",
              "      <td>51.445000</td>\n",
              "      <td>-0.207209</td>\n",
              "      <td>16.15</td>\n",
              "      <td>0 days 00:23:00</td>\n",
              "      <td>2020-11-23 17:33:11</td>\n",
              "      <td>2020-11-23 17:56:11</td>\n",
              "      <td>10.07</td>\n",
              "      <td>2</td>\n",
              "      <td>bad car</td>\n",
              "      <td>[not recommend, dirty, non-expert navigation]</td>\n",
              "      <td>3</td>\n",
              "      <td>NaN</td>\n",
              "      <td>NaN</td>\n",
              "    </tr>\n",
              "    <tr>\n",
              "      <th>3</th>\n",
              "      <td>508</td>\n",
              "      <td>33</td>\n",
              "      <td>N3 3RN</td>\n",
              "      <td>51.597496</td>\n",
              "      <td>-0.199102</td>\n",
              "      <td>NW10 6ZJ</td>\n",
              "      <td>51.528389</td>\n",
              "      <td>-0.246594</td>\n",
              "      <td>8.36</td>\n",
              "      <td>0 days 00:13:00</td>\n",
              "      <td>2012-07-10 08:11:54</td>\n",
              "      <td>2012-07-10 08:24:54</td>\n",
              "      <td>9.27</td>\n",
              "      <td>NaN</td>\n",
              "      <td>NaN</td>\n",
              "      <td>NaN</td>\n",
              "      <td>NaN</td>\n",
              "      <td>NaN</td>\n",
              "      <td>NaN</td>\n",
              "    </tr>\n",
              "    <tr>\n",
              "      <th>4</th>\n",
              "      <td>1048</td>\n",
              "      <td>543</td>\n",
              "      <td>SW16 9EY</td>\n",
              "      <td>51.430919</td>\n",
              "      <td>-0.130694</td>\n",
              "      <td>DA1 4FF</td>\n",
              "      <td>51.459906</td>\n",
              "      <td>0.179389</td>\n",
              "      <td>21.80</td>\n",
              "      <td>0 days 00:31:00</td>\n",
              "      <td>2017-07-23 08:02:25</td>\n",
              "      <td>2017-07-23 08:33:25</td>\n",
              "      <td>19.35</td>\n",
              "      <td>4</td>\n",
              "      <td>NaN</td>\n",
              "      <td>NaN</td>\n",
              "      <td>5</td>\n",
              "      <td>NaN</td>\n",
              "      <td>NaN</td>\n",
              "    </tr>\n",
              "  </tbody>\n",
              "</table>\n",
              "</div>\n",
              "      <button class=\"colab-df-convert\" onclick=\"convertToInteractive('df-c8000356-d22a-43e8-b88c-e2cfd4333605')\"\n",
              "              title=\"Convert this dataframe to an interactive table.\"\n",
              "              style=\"display:none;\">\n",
              "        \n",
              "  <svg xmlns=\"http://www.w3.org/2000/svg\" height=\"24px\"viewBox=\"0 0 24 24\"\n",
              "       width=\"24px\">\n",
              "    <path d=\"M0 0h24v24H0V0z\" fill=\"none\"/>\n",
              "    <path d=\"M18.56 5.44l.94 2.06.94-2.06 2.06-.94-2.06-.94-.94-2.06-.94 2.06-2.06.94zm-11 1L8.5 8.5l.94-2.06 2.06-.94-2.06-.94L8.5 2.5l-.94 2.06-2.06.94zm10 10l.94 2.06.94-2.06 2.06-.94-2.06-.94-.94-2.06-.94 2.06-2.06.94z\"/><path d=\"M17.41 7.96l-1.37-1.37c-.4-.4-.92-.59-1.43-.59-.52 0-1.04.2-1.43.59L10.3 9.45l-7.72 7.72c-.78.78-.78 2.05 0 2.83L4 21.41c.39.39.9.59 1.41.59.51 0 1.02-.2 1.41-.59l7.78-7.78 2.81-2.81c.8-.78.8-2.07 0-2.86zM5.41 20L4 18.59l7.72-7.72 1.47 1.35L5.41 20z\"/>\n",
              "  </svg>\n",
              "      </button>\n",
              "      \n",
              "  <style>\n",
              "    .colab-df-container {\n",
              "      display:flex;\n",
              "      flex-wrap:wrap;\n",
              "      gap: 12px;\n",
              "    }\n",
              "\n",
              "    .colab-df-convert {\n",
              "      background-color: #E8F0FE;\n",
              "      border: none;\n",
              "      border-radius: 50%;\n",
              "      cursor: pointer;\n",
              "      display: none;\n",
              "      fill: #1967D2;\n",
              "      height: 32px;\n",
              "      padding: 0 0 0 0;\n",
              "      width: 32px;\n",
              "    }\n",
              "\n",
              "    .colab-df-convert:hover {\n",
              "      background-color: #E2EBFA;\n",
              "      box-shadow: 0px 1px 2px rgba(60, 64, 67, 0.3), 0px 1px 3px 1px rgba(60, 64, 67, 0.15);\n",
              "      fill: #174EA6;\n",
              "    }\n",
              "\n",
              "    [theme=dark] .colab-df-convert {\n",
              "      background-color: #3B4455;\n",
              "      fill: #D2E3FC;\n",
              "    }\n",
              "\n",
              "    [theme=dark] .colab-df-convert:hover {\n",
              "      background-color: #434B5C;\n",
              "      box-shadow: 0px 1px 3px 1px rgba(0, 0, 0, 0.15);\n",
              "      filter: drop-shadow(0px 1px 2px rgba(0, 0, 0, 0.3));\n",
              "      fill: #FFFFFF;\n",
              "    }\n",
              "  </style>\n",
              "\n",
              "      <script>\n",
              "        const buttonEl =\n",
              "          document.querySelector('#df-c8000356-d22a-43e8-b88c-e2cfd4333605 button.colab-df-convert');\n",
              "        buttonEl.style.display =\n",
              "          google.colab.kernel.accessAllowed ? 'block' : 'none';\n",
              "\n",
              "        async function convertToInteractive(key) {\n",
              "          const element = document.querySelector('#df-c8000356-d22a-43e8-b88c-e2cfd4333605');\n",
              "          const dataTable =\n",
              "            await google.colab.kernel.invokeFunction('convertToInteractive',\n",
              "                                                     [key], {});\n",
              "          if (!dataTable) return;\n",
              "\n",
              "          const docLinkHtml = 'Like what you see? Visit the ' +\n",
              "            '<a target=\"_blank\" href=https://colab.research.google.com/notebooks/data_table.ipynb>data table notebook</a>'\n",
              "            + ' to learn more about interactive tables.';\n",
              "          element.innerHTML = '';\n",
              "          dataTable['output_type'] = 'display_data';\n",
              "          await google.colab.output.renderOutput(dataTable, element);\n",
              "          const docLink = document.createElement('div');\n",
              "          docLink.innerHTML = docLinkHtml;\n",
              "          element.appendChild(docLink);\n",
              "        }\n",
              "      </script>\n",
              "    </div>\n",
              "  </div>\n",
              "  "
            ]
          },
          "metadata": {},
          "execution_count": 68
        }
      ]
    },
    {
      "cell_type": "code",
      "source": [
        "rides.to_csv(\"rides.csv\")"
      ],
      "metadata": {
        "id": "0or3HMIjfsdC"
      },
      "execution_count": 69,
      "outputs": []
    },
    {
      "cell_type": "code",
      "source": [],
      "metadata": {
        "id": "Z7ZmFdm7fzki"
      },
      "execution_count": null,
      "outputs": []
    }
  ]
}